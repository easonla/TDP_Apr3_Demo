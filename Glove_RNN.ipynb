{
 "cells": [
  {
   "cell_type": "code",
   "execution_count": 1,
   "metadata": {},
   "outputs": [
    {
     "name": "stdout",
     "output_type": "stream",
     "text": [
      "Better speed can be achieved with apex installed from https://www.github.com/nvidia/apex.\n"
     ]
    }
   ],
   "source": [
    "from flair.embeddings import WordEmbeddings, FlairEmbeddings, DocumentRNNEmbeddings, BertEmbeddings, ELMoEmbeddings\n",
    "from flair.data import Sentence\n",
    "from flair.data import TaggedCorpus\n",
    "from flair.data_fetcher import NLPTaskDataFetcher, NLPTask\n",
    "from flair.models import TextClassifier\n",
    "from flair.trainers import ModelTrainer\n",
    "from sklearn.datasets import load_files\n",
    "import pandas as pd"
   ]
  },
  {
   "cell_type": "code",
   "execution_count": 4,
   "metadata": {},
   "outputs": [
    {
     "name": "stdout",
     "output_type": "stream",
     "text": [
      "2019-04-03 01:45:29,767 Reading data from .\n",
      "2019-04-03 01:45:29,768 Train: data/train.csv\n",
      "2019-04-03 01:45:29,769 Dev: data/dev.csv\n",
      "2019-04-03 01:45:29,770 Test: data/test.csv\n",
      "2019-04-03 01:47:54,918 ----------------------------------------------------------------------------------------------------\n",
      "2019-04-03 01:47:54,920 Evaluation method: MICRO_F1_SCORE\n",
      "2019-04-03 01:47:54,921 ----------------------------------------------------------------------------------------------------\n",
      "2019-04-03 01:47:58,838 epoch 1 - iter 0/63 - loss 0.02360702\n",
      "2019-04-03 01:48:14,440 epoch 1 - iter 6/63 - loss 0.02260499\n",
      "2019-04-03 01:48:33,599 epoch 1 - iter 12/63 - loss 0.02223398\n",
      "2019-04-03 01:48:55,020 epoch 1 - iter 18/63 - loss 0.02214296\n",
      "2019-04-03 01:49:11,595 epoch 1 - iter 24/63 - loss 0.02202480\n",
      "2019-04-03 01:49:28,529 epoch 1 - iter 30/63 - loss 0.02204716\n",
      "2019-04-03 01:49:45,720 epoch 1 - iter 36/63 - loss 0.02201682\n",
      "2019-04-03 01:50:02,323 epoch 1 - iter 42/63 - loss 0.02194637\n",
      "2019-04-03 01:50:19,419 epoch 1 - iter 48/63 - loss 0.02190827\n",
      "2019-04-03 01:50:37,262 epoch 1 - iter 54/63 - loss 0.02191026\n",
      "2019-04-03 01:50:54,035 epoch 1 - iter 60/63 - loss 0.02197557\n",
      "2019-04-03 01:50:57,909 ----------------------------------------------------------------------------------------------------\n",
      "2019-04-03 01:50:57,910 EPOCH 1 done: loss 0.0222 - lr 0.1000 - bad epochs 0\n",
      "2019-04-03 01:51:21,852 DEV  : loss 0.02170677 - f-score 0.5620 - acc 0.3908\n",
      "2019-04-03 02:00:06,899 TEST : loss 0.02149069 - f-score 0.5652 - acc 0.3940\n",
      "2019-04-03 02:00:12,026 ----------------------------------------------------------------------------------------------------\n",
      "2019-04-03 02:00:15,378 epoch 2 - iter 0/63 - loss 0.02234445\n",
      "2019-04-03 02:00:32,254 epoch 2 - iter 6/63 - loss 0.02173463\n",
      "2019-04-03 02:00:49,657 epoch 2 - iter 12/63 - loss 0.02186159\n",
      "2019-04-03 02:01:06,707 epoch 2 - iter 18/63 - loss 0.02197237\n",
      "2019-04-03 02:01:28,417 epoch 2 - iter 24/63 - loss 0.02197516\n",
      "2019-04-03 02:01:49,374 epoch 2 - iter 30/63 - loss 0.02202089\n",
      "2019-04-03 02:02:09,900 epoch 2 - iter 36/63 - loss 0.02198449\n",
      "2019-04-03 02:02:29,594 epoch 2 - iter 42/63 - loss 0.02188306\n",
      "2019-04-03 02:02:49,137 epoch 2 - iter 48/63 - loss 0.02185656\n",
      "2019-04-03 02:03:03,769 epoch 2 - iter 54/63 - loss 0.02184376\n",
      "2019-04-03 02:03:23,286 epoch 2 - iter 60/63 - loss 0.02179410\n",
      "2019-04-03 02:03:28,152 ----------------------------------------------------------------------------------------------------\n",
      "2019-04-03 02:03:28,153 EPOCH 2 done: loss 0.0220 - lr 0.1000 - bad epochs 0\n",
      "2019-04-03 02:03:52,591 DEV  : loss 0.02186551 - f-score 0.5170 - acc 0.3486\n",
      "2019-04-03 02:14:43,813 TEST : loss 0.02160897 - f-score 0.5127 - acc 0.3447\n",
      "2019-04-03 02:14:55,005 ----------------------------------------------------------------------------------------------------\n",
      "2019-04-03 02:15:02,235 epoch 3 - iter 0/63 - loss 0.02136785\n",
      "2019-04-03 02:15:35,505 epoch 3 - iter 6/63 - loss 0.02141615\n",
      "2019-04-03 02:16:00,109 epoch 3 - iter 12/63 - loss 0.02110706\n",
      "2019-04-03 02:16:18,832 epoch 3 - iter 18/63 - loss 0.02104088\n",
      "2019-04-03 02:16:41,419 epoch 3 - iter 24/63 - loss 0.02115446\n",
      "2019-04-03 02:17:01,306 epoch 3 - iter 30/63 - loss 0.02114982\n",
      "2019-04-03 02:17:21,071 epoch 3 - iter 36/63 - loss 0.02122307\n",
      "2019-04-03 02:17:38,004 epoch 3 - iter 42/63 - loss 0.02127452\n",
      "2019-04-03 02:17:54,381 epoch 3 - iter 48/63 - loss 0.02127154\n",
      "2019-04-03 02:18:14,051 epoch 3 - iter 54/63 - loss 0.02130263\n",
      "2019-04-03 02:18:28,446 epoch 3 - iter 60/63 - loss 0.02140596\n",
      "2019-04-03 02:18:32,251 ----------------------------------------------------------------------------------------------------\n",
      "2019-04-03 02:18:32,252 EPOCH 3 done: loss 0.0216 - lr 0.1000 - bad epochs 0\n",
      "2019-04-03 02:18:56,771 DEV  : loss 0.02158250 - f-score 0.5475 - acc 0.3769\n",
      "2019-04-03 02:24:29,288 TEST : loss 0.02130983 - f-score 0.5606 - acc 0.3895\n",
      "2019-04-03 02:24:37,209 ----------------------------------------------------------------------------------------------------\n",
      "2019-04-03 02:24:37,212 Testing using best model ...\n",
      "2019-04-03 02:24:37,242 loading file Glove_RNN/best-model.pt\n",
      "2019-04-03 02:30:21,313 MICRO_AVG: acc 0.3895 - f1-score 0.5606\n",
      "2019-04-03 02:30:21,335 MACRO_AVG: acc 0.3724 - f1-score 0.5343\n",
      "2019-04-03 02:30:21,336 0          tp: 9981 - fp: 8465 - fn: 2519 - tn: 4035 - precision: 0.5411 - recall: 0.7985 - accuracy: 0.4761 - f1-score: 0.6451\n",
      "2019-04-03 02:30:21,337 1          tp: 4035 - fp: 2519 - fn: 8465 - tn: 9981 - precision: 0.6157 - recall: 0.3228 - accuracy: 0.2687 - f1-score: 0.4235\n",
      "2019-04-03 02:30:21,338 ----------------------------------------------------------------------------------------------------\n"
     ]
    },
    {
     "data": {
      "text/plain": [
       "{'test_score': 0.5606,\n",
       " 'dev_score_history': [0.562, 0.517, 0.5475],\n",
       " 'train_loss_history': [0.022154469847679138,\n",
       "  0.02197637951374054,\n",
       "  0.02157093295454979],\n",
       " 'dev_loss_history': [0.02170676924288273,\n",
       "  0.021865511313080788,\n",
       "  0.021582497283816338]}"
      ]
     },
     "execution_count": 4,
     "metadata": {},
     "output_type": "execute_result"
    }
   ],
   "source": [
    "from pathlib import Path\n",
    "corpus = NLPTaskDataFetcher.load_classification_corpus(Path('./'), test_file='data/test.csv', dev_file='data/dev.csv',train_file='data/train.csv')\n",
    "word_embeddings = [WordEmbeddings('glove')]\n",
    "document_embeddings = DocumentRNNEmbeddings(word_embeddings, hidden_size=128, reproject_words=True, reproject_words_dimension=64)\n",
    "classifier = TextClassifier(document_embeddings, label_dictionary=corpus.make_label_dictionary(), multi_label=False)\n",
    "trainer = ModelTrainer(classifier, corpus)\n",
    "trainer.train('Glove_RNN/', max_epochs=3)"
   ]
  }
 ],
 "metadata": {
  "kernelspec": {
   "display_name": "Python 3",
   "language": "python",
   "name": "python3"
  },
  "language_info": {
   "codemirror_mode": {
    "name": "ipython",
    "version": 3
   },
   "file_extension": ".py",
   "mimetype": "text/x-python",
   "name": "python",
   "nbconvert_exporter": "python",
   "pygments_lexer": "ipython3",
   "version": "3.6.8"
  }
 },
 "nbformat": 4,
 "nbformat_minor": 2
}
