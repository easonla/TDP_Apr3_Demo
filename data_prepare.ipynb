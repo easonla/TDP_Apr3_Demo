{
 "cells": [
  {
   "cell_type": "code",
   "execution_count": 1,
   "metadata": {},
   "outputs": [],
   "source": [
    "from sklearn.datasets import load_files\n",
    "import pandas as pd\n",
    "reviews_train = load_files(\"aclImdb/train/\")\n",
    "reviews_test = load_files(\"aclImdb/test/\")\n",
    "text_train, y_train = reviews_train.data, reviews_train.target\n",
    "text_test, y_test = reviews_test.data, reviews_test.target\n",
    "train_data = pd.DataFrame({'label':y_train,'text':text_train})\n",
    "neg = train_data.label == 0\n",
    "pos = train_data.label == 1\n",
    "train_data = train_data[neg | pos]\n",
    "train_data['label'] = '__label__' + train_data['label'].astype(str)\n",
    "train_data = train_data[['label','text']]\n",
    "\n",
    "test_data = pd.DataFrame({'label':y_test,'text':text_test})\n",
    "test_data['label'] = '__label__' + test_data['label'].astype(str)\n",
    "test_data = train_data[['label','text']]\n",
    "\n",
    "train_data.iloc[0:2000].to_csv('data/train.csv', sep='\\t', index = False, header = False)\n",
    "train_data.iloc[2000:4000].to_csv('data/dev.csv', sep='\\t', index = False, header = False)\n",
    "test_data.to_csv('data/test.csv', sep='\\t', index = False, header = False)"
   ]
  }
 ],
 "metadata": {
  "kernelspec": {
   "display_name": "Python 3",
   "language": "python",
   "name": "python3"
  },
  "language_info": {
   "codemirror_mode": {
    "name": "ipython",
    "version": 3
   },
   "file_extension": ".py",
   "mimetype": "text/x-python",
   "name": "python",
   "nbconvert_exporter": "python",
   "pygments_lexer": "ipython3",
   "version": "3.6.8"
  }
 },
 "nbformat": 4,
 "nbformat_minor": 2
}
